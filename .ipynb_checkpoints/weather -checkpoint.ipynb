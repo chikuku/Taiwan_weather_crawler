{
 "cells": [
  {
   "cell_type": "code",
   "execution_count": 62,
   "metadata": {
    "collapsed": true
   },
   "outputs": [],
   "source": [
    "Location=[\n",
    "['Taipei', ['https://www.cwb.gov.tw/V7/observe/24real/Data/46692.htm']],\n",
    "['Keelung', ['https://www.cwb.gov.tw/V7/observe/24real/Data/46694.htm']],\n",
    "['Taoyuan', ['https://www.cwb.gov.tw/V7/observe/24real/Data/C0C48.htm']],\n",
    "['Hsinchu', ['https://www.cwb.gov.tw/V7/observe/24real/Data/46757.htm']],\n",
    "['Miaoli', ['https://www.cwb.gov.tw/V7/observe/24real/Data/C0E75.htm']],\n",
    "['Taichung', ['https://www.cwb.gov.tw/V7/observe/24real/Data/46749.htm']],\n",
    "['Nantou', ['https://www.cwb.gov.tw/V7/observe/24real/Data/C0H95.htm']],\n",
    "['Yunlin', ['https://www.cwb.gov.tw/V7/observe/24real/Data/72K22.htm']],\n",
    "['Chiayi', ['https://www.cwb.gov.tw/V7/observe/24real/Data/46748.htm']],\n",
    "['Tainan', ['https://www.cwb.gov.tw/V7/observe/24real/Data/46741.htm']],\n",
    "['Kaohsiung', ['https://www.cwb.gov.tw/V7/observe/24real/Data/46744.htm']],\n",
    "['Pingtung', ['https://www.cwb.gov.tw/V7/observe/24real/Data/C0R17.htm']],\n",
    "['Ilan', ['https://www.cwb.gov.tw/V7/observe/24real/Data/46708.htm']],\n",
    "['Hualien', ['https://www.cwb.gov.tw/V7/observe/24real/Data/46699.htm']],\n",
    "['Taitung', ['https://www.cwb.gov.tw/V7/observe/24real/Data/46766.htm']],\n",
    "['Wuhu', ['https://www.cwb.gov.tw/V7/observe/24real/Data/46735.htm']],\n",
    "['Quemoy', ['https://www.cwb.gov.tw/V7/observe/24real/Data/46711.htm']],\n",
    "['Matsu', ['https://www.cwb.gov.tw/V7/observe/24real/Data/46799.htm']]\n",
    "]"
   ]
  },
  {
   "cell_type": "code",
   "execution_count": 65,
   "metadata": {},
   "outputs": [
    {
     "name": "stdout",
     "output_type": "stream",
     "text": [
      "['https://www.cwb.gov.tw/V7/observe/24real/Data/46692.htm']\n",
      "['https://www.cwb.gov.tw/V7/observe/24real/Data/46694.htm']\n",
      "['https://www.cwb.gov.tw/V7/observe/24real/Data/C0C48.htm']\n",
      "['https://www.cwb.gov.tw/V7/observe/24real/Data/46757.htm']\n",
      "['https://www.cwb.gov.tw/V7/observe/24real/Data/C0E75.htm']\n",
      "['https://www.cwb.gov.tw/V7/observe/24real/Data/46749.htm']\n",
      "['https://www.cwb.gov.tw/V7/observe/24real/Data/C0H95.htm']\n",
      "['https://www.cwb.gov.tw/V7/observe/24real/Data/72K22.htm']\n",
      "['https://www.cwb.gov.tw/V7/observe/24real/Data/46748.htm']\n",
      "['https://www.cwb.gov.tw/V7/observe/24real/Data/46741.htm']\n",
      "['https://www.cwb.gov.tw/V7/observe/24real/Data/46744.htm']\n",
      "['https://www.cwb.gov.tw/V7/observe/24real/Data/C0R17.htm']\n",
      "['https://www.cwb.gov.tw/V7/observe/24real/Data/46708.htm']\n",
      "['https://www.cwb.gov.tw/V7/observe/24real/Data/46699.htm']\n",
      "['https://www.cwb.gov.tw/V7/observe/24real/Data/46766.htm']\n",
      "['https://www.cwb.gov.tw/V7/observe/24real/Data/46735.htm']\n",
      "['https://www.cwb.gov.tw/V7/observe/24real/Data/46711.htm']\n",
      "['https://www.cwb.gov.tw/V7/observe/24real/Data/46799.htm']\n"
     ]
    }
   ],
   "source": [
    "for i in Location:\n",
    "    print(i[1])"
   ]
  },
  {
   "cell_type": "code",
   "execution_count": 3,
   "metadata": {
    "collapsed": true
   },
   "outputs": [],
   "source": [
    "import requests\n",
    "from bs4 import BeautifulSoup\n",
    "import pandas as pd"
   ]
  },
  {
   "cell_type": "code",
   "execution_count": 11,
   "metadata": {
    "collapsed": true
   },
   "outputs": [],
   "source": [
    "# 抓當天時間與小時 小時做核對用\n",
    "import datetime"
   ]
  },
  {
   "cell_type": "code",
   "execution_count": 95,
   "metadata": {
    "collapsed": true
   },
   "outputs": [],
   "source": [
    "#def Timenow():\n",
    "time = list()\n",
    "today = datetime.datetime.now() #today()\n",
    "today.month \n",
    "today.day\n",
    "today.hour\n",
    "#a = time.append(today.month)\n",
    "#print(a)\n",
    "DATE = (str(today.month)+\"/\"+str(today.day))\n",
    "TIME = (str(today.hour)+\":00\")"
   ]
  },
  {
   "cell_type": "code",
   "execution_count": 96,
   "metadata": {},
   "outputs": [
    {
     "data": {
      "text/plain": [
       "'4/28'"
      ]
     },
     "execution_count": 96,
     "metadata": {},
     "output_type": "execute_result"
    }
   ],
   "source": [
    "DATE"
   ]
  },
  {
   "cell_type": "code",
   "execution_count": 97,
   "metadata": {},
   "outputs": [
    {
     "data": {
      "text/plain": [
       "'0:00'"
      ]
     },
     "execution_count": 97,
     "metadata": {},
     "output_type": "execute_result"
    }
   ],
   "source": [
    "TIME"
   ]
  },
  {
   "cell_type": "code",
   "execution_count": 98,
   "metadata": {
    "collapsed": true
   },
   "outputs": [],
   "source": [
    "# 想加入時間但是不理我QQ\n",
    "conn = sqlite3.connect('Temp.sqlite')\n",
    "cursor = conn.cursor()\n",
    "cursor.execute('INSERT INTO  \"Loc_Temp\" (\"Date\",\"Time\")VALUES (\\'' + DATE + '\\',\\'' + TIME + '\\');')\n",
    "conn.commit()\n",
    "conn.close()"
   ]
  },
  {
   "cell_type": "code",
   "execution_count": 90,
   "metadata": {},
   "outputs": [
    {
     "data": {
      "text/plain": [
       "<sqlite3.Cursor at 0x23f4c037dc0>"
      ]
     },
     "execution_count": 90,
     "metadata": {},
     "output_type": "execute_result"
    }
   ],
   "source": [
    "cursor.execute('INSERT INTO  \"Loc_Temp\" (\"Taipei\",\"Keelung\",\"Taoyuan\",\"Hsinchu\",\"Miaoli\", \"Taichung\",\"Nantou\", \"Yunlin\",\"Chiayi\",\"Tainan\",\"Kaohsiung\", \"Pingtung\", \"Ilan\", \"Hualien\", \"Taitung\",\"Wuhu\",\"Quemoy\",\"Matsu\")VALUES (\\'' + Temp_list[0] + '\\',\\'' + Temp_list[1] + '\\',\\'' + Temp_list[2] + '\\',\\'' + Temp_list[3] + '\\',\\'' + Temp_list[4] + '\\',\\'' + Temp_list[5] + '\\',\\'' + Temp_list[6] + '\\',\\'' + Temp_list[7] + '\\',\\'' + Temp_list[8] + '\\',\\'' + Temp_list[9] + '\\',\\'' + Temp_list[10] + '\\',\\'' + Temp_list[11] + '\\',\\'' + Temp_list[12] + '\\',\\'' + Temp_list[13] + '\\',\\'' + Temp_list[14] + '\\',\\'' + Temp_list[15] + '\\',\\'' + Temp_list[16] + '\\',\\'' + Temp_list[17] + '\\');')\n"
   ]
  },
  {
   "cell_type": "code",
   "execution_count": 58,
   "metadata": {
    "collapsed": true
   },
   "outputs": [],
   "source": [
    "#抓氣溫\n",
    "def Weather(url):\n",
    "    Loc_page = requests.get(url)\n",
    "    Loc_page.encoding = 'utf-8'\n",
    "    Loc = BeautifulSoup(Loc_page.text, 'html.parser')\n",
    "    Temp = Loc.find_all('td',{'class':\"temp1\"})\n",
    "    temp = pd.Series()\n",
    "\n",
    "    for i in Temp :\n",
    "        temp = temp.append(pd.Series([i.text])).reset_index(drop=True)\n",
    "    Hot_temp = max(temp)\n",
    "    return (Hot_temp)"
   ]
  },
  {
   "cell_type": "code",
   "execution_count": 78,
   "metadata": {
    "collapsed": true
   },
   "outputs": [],
   "source": [
    "Temp_list = list()\n",
    "for loc in Location:\n",
    "    Temp_list.append((Weather(''.join(loc[1]))))"
   ]
  },
  {
   "cell_type": "code",
   "execution_count": 79,
   "metadata": {
    "scrolled": true
   },
   "outputs": [
    {
     "data": {
      "text/plain": [
       "['27.7',\n",
       " '25.4',\n",
       " '27.0',\n",
       " '27.3',\n",
       " '27.1',\n",
       " '29.7',\n",
       " '29.2',\n",
       " '31.2',\n",
       " '31.3',\n",
       " '31.0',\n",
       " '29.4',\n",
       " '31.3',\n",
       " '26.4',\n",
       " '27.9',\n",
       " '28.3',\n",
       " '29.0',\n",
       " '23.8',\n",
       " '21.7']"
      ]
     },
     "execution_count": 79,
     "metadata": {},
     "output_type": "execute_result"
    }
   ],
   "source": [
    "Temp_list"
   ]
  },
  {
   "cell_type": "code",
   "execution_count": 83,
   "metadata": {},
   "outputs": [
    {
     "data": {
      "text/plain": [
       "18"
      ]
     },
     "execution_count": 83,
     "metadata": {},
     "output_type": "execute_result"
    }
   ],
   "source": [
    "len(Temp_list)"
   ]
  },
  {
   "cell_type": "code",
   "execution_count": 85,
   "metadata": {
    "collapsed": true
   },
   "outputs": [],
   "source": [
    "#想依序存進去可是他不理我qq\n",
    "import sqlite3\n",
    "conn = sqlite3.connect('Temp.sqlite')\n",
    "cursor = conn.cursor()\n",
    "cursor.execute('INSERT INTO  \"Loc_Temp\" (\"Taipei\",\"Keelung\",\"Taoyuan\",\"Hsinchu\",\"Miaoli\", \"Taichung\",\"Nantou\", \"Yunlin\",\"Chiayi\",\"Tainan\",\"Kaohsiung\", \"Pingtung\", \"Ilan\", \"Hualien\", \"Taitung\",\"Wuhu\",\"Quemoy\",\"Matsu\")VALUES (\\'' + Temp_list[0] + '\\',\\'' + Temp_list[1] + '\\',\\'' + Temp_list[2] + '\\',\\'' + Temp_list[3] + '\\',\\'' + Temp_list[4] + '\\',\\'' + Temp_list[5] + '\\',\\'' + Temp_list[6] + '\\',\\'' + Temp_list[7] + '\\',\\'' + Temp_list[8] + '\\',\\'' + Temp_list[9] + '\\',\\'' + Temp_list[10] + '\\',\\'' + Temp_list[11] + '\\',\\'' + Temp_list[12] + '\\',\\'' + Temp_list[13] + '\\',\\'' + Temp_list[14] + '\\',\\'' + Temp_list[15] + '\\',\\'' + Temp_list[16] + '\\',\\'' + Temp_list[17] + '\\');')\n",
    "\n",
    "conn.commit()\n",
    "conn.close()"
   ]
  },
  {
   "cell_type": "code",
   "execution_count": null,
   "metadata": {
    "collapsed": true
   },
   "outputs": [],
   "source": [
    "def Weather_Date(url):\n",
    "    Loc_page = requests.get(url)\n",
    "    Loc_page.encoding = 'utf-8'\n",
    "    Loc = BeautifulSoup(Loc_page.text, 'html.parser')\n",
    "    Time = Loc.find_all('th')\n",
    "    date = pd.Series()\n",
    "    date2 = list()\n",
    "    Hot = list()\n",
    "    for i in Loc.select('th'):\n",
    "        date = date.append(pd.Series([i.text])).reset_index(drop=True)\n",
    "    for j in range(12,162):\n",
    "        date_2 = date \n",
    "        Hot = Hot.append(max(date))\n",
    "    #Date_list = list(date)\n",
    "    return (Hot)"
   ]
  },
  {
   "cell_type": "markdown",
   "metadata": {},
   "source": [
    "以下是上次西瓜測試用"
   ]
  },
  {
   "cell_type": "code",
   "execution_count": 61,
   "metadata": {
    "collapsed": true
   },
   "outputs": [],
   "source": [
    "import sqlite3\n",
    "conn = sqlite3.connect('Temp.sqlite')\n",
    "cursor = conn.cursor()\n",
    "for i in range(12,162):\n",
    "    cursor.execute('INSERT INTO  \"Loc_Temp\" (\"Date\",\"Time\")VALUES (\\'' + Today[i].split(' ')[0] + '\\',\\'' + Today[i].split(' ')[1] + '\\');')\n",
    "conn.commit()\n",
    "conn.close()"
   ]
  },
  {
   "cell_type": "code",
   "execution_count": 91,
   "metadata": {
    "collapsed": true
   },
   "outputs": [],
   "source": [
    "conn.commit()\n",
    "conn.close()"
   ]
  },
  {
   "cell_type": "code",
   "execution_count": 87,
   "metadata": {
    "collapsed": true
   },
   "outputs": [],
   "source": [
    "import sqlite3\n",
    "conn = sqlite3.connect('Temp.sqlite')"
   ]
  },
  {
   "cell_type": "code",
   "execution_count": 22,
   "metadata": {},
   "outputs": [
    {
     "data": {
      "text/plain": [
       "'0 4 / 2 1   1 2 : 0 0'"
      ]
     },
     "execution_count": 22,
     "metadata": {},
     "output_type": "execute_result"
    }
   ],
   "source": [
    "' '.join( Today[12])"
   ]
  },
  {
   "cell_type": "code",
   "execution_count": 29,
   "metadata": {},
   "outputs": [
    {
     "data": {
      "text/plain": [
       "'04/21'"
      ]
     },
     "execution_count": 29,
     "metadata": {},
     "output_type": "execute_result"
    }
   ],
   "source": [
    "Today[12].split(' ')[0]\n",
    "#Today[12].split(' ')[1]"
   ]
  },
  {
   "cell_type": "code",
   "execution_count": 21,
   "metadata": {
    "collapsed": true
   },
   "outputs": [],
   "source": [
    "conn = sqlite3.connect('Temp.sqlite')\n",
    "cursor = conn.cursor()"
   ]
  },
  {
   "cell_type": "code",
   "execution_count": 28,
   "metadata": {
    "scrolled": true
   },
   "outputs": [
    {
     "data": {
      "text/plain": [
       "<sqlite3.Cursor at 0x2151fc5f960>"
      ]
     },
     "execution_count": 28,
     "metadata": {},
     "output_type": "execute_result"
    }
   ],
   "source": [
    "cursor.execute(\"DELETE from Loc_Temp where rowid= '1';\")"
   ]
  },
  {
   "cell_type": "code",
   "execution_count": 29,
   "metadata": {
    "collapsed": true
   },
   "outputs": [],
   "source": [
    "conn.commit()"
   ]
  },
  {
   "cell_type": "code",
   "execution_count": 30,
   "metadata": {},
   "outputs": [
    {
     "name": "stdout",
     "output_type": "stream",
     "text": [
      "Total number of rows deleted : 0\n"
     ]
    }
   ],
   "source": [
    "# print有刪除的\n",
    "print (\"Total number of rows deleted :\", conn.total_changes)"
   ]
  },
  {
   "cell_type": "code",
   "execution_count": 53,
   "metadata": {
    "scrolled": true
   },
   "outputs": [
    {
     "data": {
      "text/plain": [
       "<sqlite3.Cursor at 0x21ef50716c0>"
      ]
     },
     "execution_count": 53,
     "metadata": {},
     "output_type": "execute_result"
    }
   ],
   "source": [
    "cursor.execute('INSERT INTO  \"Loc_Temp\" (\"Date\",\"Time\")VALUES (\\'' + Today[12].split(' ')[0] + '\\',\\'' + Today[12].split(' ')[1] + '\\');')"
   ]
  },
  {
   "cell_type": "code",
   "execution_count": 46,
   "metadata": {},
   "outputs": [
    {
     "data": {
      "text/plain": [
       "'04/21'"
      ]
     },
     "execution_count": 46,
     "metadata": {},
     "output_type": "execute_result"
    }
   ],
   "source": [
    " Today[12].split(' ')[0] "
   ]
  },
  {
   "cell_type": "code",
   "execution_count": 20,
   "metadata": {
    "collapsed": true
   },
   "outputs": [],
   "source": [
    "conn.close()"
   ]
  },
  {
   "cell_type": "code",
   "execution_count": 59,
   "metadata": {},
   "outputs": [
    {
     "data": {
      "text/plain": [
       "163"
      ]
     },
     "execution_count": 59,
     "metadata": {},
     "output_type": "execute_result"
    }
   ],
   "source": [
    "len(Today)"
   ]
  },
  {
   "cell_type": "markdown",
   "metadata": {
    "collapsed": true
   },
   "source": [
    "- 每個地方取最高溫"
   ]
  },
  {
   "cell_type": "code",
   "execution_count": 2,
   "metadata": {},
   "outputs": [
    {
     "ename": "SyntaxError",
     "evalue": "invalid syntax (<ipython-input-2-ace33f778745>, line 1)",
     "output_type": "error",
     "traceback": [
      "\u001b[1;36m  File \u001b[1;32m\"<ipython-input-2-ace33f778745>\"\u001b[1;36m, line \u001b[1;32m1\u001b[0m\n\u001b[1;33m    a = list(1, ,3)\u001b[0m\n\u001b[1;37m                ^\u001b[0m\n\u001b[1;31mSyntaxError\u001b[0m\u001b[1;31m:\u001b[0m invalid syntax\n"
     ]
    }
   ],
   "source": [
    "#試試看如果list有null會怎樣\n",
    "#確認不會怎樣 可正常return max溫度"
   ]
  },
  {
   "cell_type": "code",
   "execution_count": null,
   "metadata": {
    "collapsed": true
   },
   "outputs": [],
   "source": [
    "https://www.cwb.gov.tw/V7/observe/24real/Data/C0V25.htm"
   ]
  },
  {
   "cell_type": "code",
   "execution_count": 31,
   "metadata": {
    "collapsed": true
   },
   "outputs": [],
   "source": [
    "def Weather1(url):\n",
    "    Loc_page = requests.get(url)\n",
    "    Loc_page.encoding = 'utf-8'\n",
    "    Loc = BeautifulSoup(Loc_page.text, 'html.parser')\n",
    "    Temp = Loc.find_all('td',{'class':\"temp1\"})\n",
    "    temp = pd.Series()\n",
    "    for i in Loc.select('td[class=\"temp1\"]'):\n",
    "        temp = temp.append(pd.Series([i.text])).reset_index(drop=True)\n",
    "    Temp_list = list(temp)\n",
    "    return (Temp_list)"
   ]
  },
  {
   "cell_type": "code",
   "execution_count": 32,
   "metadata": {
    "collapsed": true
   },
   "outputs": [],
   "source": [
    "test = Weather1('https://www.cwb.gov.tw/V7/observe/24real/Data/C0V25.htm')"
   ]
  },
  {
   "cell_type": "code",
   "execution_count": 33,
   "metadata": {},
   "outputs": [
    {
     "name": "stdout",
     "output_type": "stream",
     "text": [
      "['-', '33.5', '33.8', '33.3', '32.1', '31.7', '28.2', '24.3', '21.6', '20.5', '20.7', '20.8', '20.7', '21.9', '21.6', '21.6', '21.7', '20.4', '20.4', '22.2', '23.4', '25.3', '27.3', '27.6', '27.2']\n"
     ]
    }
   ],
   "source": [
    "print(test)"
   ]
  },
  {
   "cell_type": "code",
   "execution_count": 34,
   "metadata": {},
   "outputs": [
    {
     "data": {
      "text/plain": [
       "'33.8'"
      ]
     },
     "execution_count": 34,
     "metadata": {},
     "output_type": "execute_result"
    }
   ],
   "source": [
    "max(test)"
   ]
  },
  {
   "cell_type": "code",
   "execution_count": 66,
   "metadata": {
    "collapsed": true
   },
   "outputs": [],
   "source": [
    "#get url 不能有list的[] 要去掉\n",
    "names = [\"Sam\", \"Peter\", \"James\", \"Julian\", \"Ann\"]"
   ]
  },
  {
   "cell_type": "code",
   "execution_count": 69,
   "metadata": {},
   "outputs": [
    {
     "name": "stdout",
     "output_type": "stream",
     "text": [
      "Sam Peter James Julian Ann\n"
     ]
    }
   ],
   "source": [
    "print (' '.join(names))"
   ]
  },
  {
   "cell_type": "code",
   "execution_count": null,
   "metadata": {
    "collapsed": true
   },
   "outputs": [],
   "source": []
  }
 ],
 "metadata": {
  "kernelspec": {
   "display_name": "Python 3",
   "language": "python",
   "name": "python3"
  },
  "language_info": {
   "codemirror_mode": {
    "name": "ipython",
    "version": 3
   },
   "file_extension": ".py",
   "mimetype": "text/x-python",
   "name": "python",
   "nbconvert_exporter": "python",
   "pygments_lexer": "ipython3",
   "version": "3.6.3"
  }
 },
 "nbformat": 4,
 "nbformat_minor": 2
}
